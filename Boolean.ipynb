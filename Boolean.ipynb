{
  "cells": [
    {
      "cell_type": "markdown",
      "metadata": {
        "id": "view-in-github",
        "colab_type": "text"
      },
      "source": [
        "<a href=\"https://colab.research.google.com/github/dilip12022006/digital-portfolio/blob/main/Boolean.ipynb\" target=\"_parent\"><img src=\"https://colab.research.google.com/assets/colab-badge.svg\" alt=\"Open In Colab\"/></a>"
      ]
    },
    {
      "cell_type": "markdown",
      "source": [
        "Boolean"
      ],
      "metadata": {
        "id": "vUmo2p3TeHAb"
      }
    },
    {
      "cell_type": "code",
      "source": [
        "# Simple Boolean program\n",
        "\n",
        "# Define two boolean variables\n",
        "is_sunny = True\n",
        "is_raining = False\n",
        "\n",
        "# Check the weather conditions\n",
        "if is_sunny:\n",
        "    print(\"It's sunny outside!\")\n",
        "elif is_raining:\n",
        "    print(\"It's raining outside!\")\n",
        "else:\n",
        "    print(\"The weather is neutral.\")\n",
        "\n",
        "# Another example with a boolean condition\n",
        "is_weekend = True\n",
        "if is_weekend:\n",
        "    print(\"Time to relax! It's the weekend!\")\n",
        "else:\n",
        "    print(\"Back to work!\")"
      ],
      "metadata": {
        "id": "qiJ_us9jeIUP",
        "outputId": "5754dd22-5bbf-4284-ccfb-f8f7aa3b8c96",
        "colab": {
          "base_uri": "https://localhost:8080/"
        }
      },
      "execution_count": 2,
      "outputs": [
        {
          "output_type": "stream",
          "name": "stdout",
          "text": [
            "It's sunny outside!\n",
            "Time to relax! It's the weekend!\n"
          ]
        }
      ]
    }
  ],
  "metadata": {
    "colab": {
      "name": "Welcome To Colab",
      "provenance": [],
      "include_colab_link": true
    },
    "kernelspec": {
      "display_name": "Python 3",
      "name": "python3"
    }
  },
  "nbformat": 4,
  "nbformat_minor": 0
}