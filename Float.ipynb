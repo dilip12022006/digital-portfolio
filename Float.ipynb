{
  "cells": [
    {
      "cell_type": "markdown",
      "metadata": {
        "id": "view-in-github",
        "colab_type": "text"
      },
      "source": [
        "<a href=\"https://colab.research.google.com/github/dilip12022006/digital-portfolio/blob/main/Float.ipynb\" target=\"_parent\"><img src=\"https://colab.research.google.com/assets/colab-badge.svg\" alt=\"Open In Colab\"/></a>"
      ]
    },
    {
      "cell_type": "markdown",
      "source": [
        "Float"
      ],
      "metadata": {
        "id": "vpbktRaressF"
      }
    },
    {
      "cell_type": "code",
      "source": [
        "# Simple Float Program\n",
        "\n",
        "# Define two float variables\n",
        "num1 = 5.75\n",
        "num2 = 2.50\n",
        "\n",
        "# Perform arithmetic operations\n",
        "sum_result = num1 + num2\n",
        "difference = num1 - num2\n",
        "product = num1 * num2\n",
        "quotient = num1 / num2\n",
        "\n",
        "# Print the results\n",
        "print(\"Sum:\", sum_result)\n",
        "print(\"Difference:\", difference)\n",
        "print(\"Product:\", product)\n",
        "print(\"Quotient:\", quotient)\n",
        "\n",
        "# Example of rounding a float value\n",
        "rounded_value = round(3.14159, 2)\n",
        "print(\"Rounded Pi:\", rounded_value)"
      ],
      "metadata": {
        "id": "U0Dob4I-e3qc",
        "outputId": "bc2c8897-aaa7-46e0-f4ed-fafd879301dd",
        "colab": {
          "base_uri": "https://localhost:8080/"
        }
      },
      "execution_count": 3,
      "outputs": [
        {
          "output_type": "stream",
          "name": "stdout",
          "text": [
            "Sum: 8.25\n",
            "Difference: 3.25\n",
            "Product: 14.375\n",
            "Quotient: 2.3\n",
            "Rounded Pi: 3.14\n"
          ]
        }
      ]
    }
  ],
  "metadata": {
    "colab": {
      "name": "Welcome To Colab",
      "provenance": [],
      "include_colab_link": true
    },
    "kernelspec": {
      "display_name": "Python 3",
      "name": "python3"
    }
  },
  "nbformat": 4,
  "nbformat_minor": 0
}