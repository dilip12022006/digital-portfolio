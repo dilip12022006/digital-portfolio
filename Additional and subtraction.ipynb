{
  "cells": [
    {
      "cell_type": "markdown",
      "metadata": {
        "id": "view-in-github",
        "colab_type": "text"
      },
      "source": [
        "<a href=\"https://colab.research.google.com/github/dilip12022006/digital-portfolio/blob/main/Additional%20and%20subtraction.ipynb\" target=\"_parent\"><img src=\"https://colab.research.google.com/assets/colab-badge.svg\" alt=\"Open In Colab\"/></a>"
      ]
    },
    {
      "cell_type": "markdown",
      "source": [
        "Additional and subtraction"
      ],
      "metadata": {
        "id": "S36SGNW3f6hM"
      }
    },
    {
      "cell_type": "code",
      "source": [
        "# Simple addition and subtraction program\n",
        "\n",
        "# Define two numbers\n",
        "num1 = 15\n",
        "num2 = 8\n",
        "\n",
        "# Perform addition\n",
        "addition_result = num1 + num2\n",
        "# Perform subtraction\n",
        "subtraction_result = num1 - num2\n",
        "\n",
        "# Print the results\n",
        "print(\"Addition of\", num1, \"and\", num2, \"is:\", addition_result)\n",
        "print(\"Subtraction of\", num1, \"and\", num2, \"is:\", subtraction_result)"
      ],
      "metadata": {
        "id": "xcOFdum_f9Q2",
        "outputId": "5d663486-a1fb-41ea-f9a5-3c4d6a19901d",
        "colab": {
          "base_uri": "https://localhost:8080/"
        }
      },
      "execution_count": 5,
      "outputs": [
        {
          "output_type": "stream",
          "name": "stdout",
          "text": [
            "Addition of 15 and 8 is: 23\n",
            "Subtraction of 15 and 8 is: 7\n"
          ]
        }
      ]
    }
  ],
  "metadata": {
    "colab": {
      "name": "Welcome To Colab",
      "provenance": [],
      "include_colab_link": true
    },
    "kernelspec": {
      "display_name": "Python 3",
      "name": "python3"
    }
  },
  "nbformat": 4,
  "nbformat_minor": 0
}