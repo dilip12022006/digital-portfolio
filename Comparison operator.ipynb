{
  "cells": [
    {
      "cell_type": "markdown",
      "metadata": {
        "id": "view-in-github",
        "colab_type": "text"
      },
      "source": [
        "<a href=\"https://colab.research.google.com/github/dilip12022006/digital-portfolio/blob/main/Comparison%20operator.ipynb\" target=\"_parent\"><img src=\"https://colab.research.google.com/assets/colab-badge.svg\" alt=\"Open In Colab\"/></a>"
      ]
    },
    {
      "cell_type": "markdown",
      "source": [
        "Comparison operator"
      ],
      "metadata": {
        "id": "efypDmEqhpye"
      }
    },
    {
      "cell_type": "code",
      "source": [
        "# Simple comparison operator program\n",
        "\n",
        "# Define two numbers\n",
        "A = 10\n",
        "B = 5\n",
        "\n",
        "# Comparison operations\n",
        "print(\"Is A equal to B?\", A == B)\n",
        "print(\"Is A not equal to B?\", A != B)\n",
        "print(\"Is A greater than B?\", A > B)\n",
        "print(\"Is A less than B?\", A < B)\n",
        "print(\"Is A greater than or equal to B?\", A >= B)\n",
        "print(\"Is A less than or equal to B?\", A <= B)"
      ],
      "metadata": {
        "id": "fc8VvV6hh14_",
        "outputId": "0758f9c9-4109-4b17-c494-a4f1a175f66d",
        "colab": {
          "base_uri": "https://localhost:8080/"
        }
      },
      "execution_count": 7,
      "outputs": [
        {
          "output_type": "stream",
          "name": "stdout",
          "text": [
            "Is A equal to B? False\n",
            "Is A not equal to B? True\n",
            "Is A greater than B? True\n",
            "Is A less than B? False\n",
            "Is A greater than or equal to B? True\n",
            "Is A less than or equal to B? False\n"
          ]
        }
      ]
    }
  ],
  "metadata": {
    "colab": {
      "name": "Welcome To Colab",
      "provenance": [],
      "include_colab_link": true
    },
    "kernelspec": {
      "display_name": "Python 3",
      "name": "python3"
    }
  },
  "nbformat": 4,
  "nbformat_minor": 0
}