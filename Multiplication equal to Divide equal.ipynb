{
  "cells": [
    {
      "cell_type": "markdown",
      "metadata": {
        "id": "view-in-github",
        "colab_type": "text"
      },
      "source": [
        "<a href=\"https://colab.research.google.com/github/dilip12022006/digital-portfolio/blob/main/Multiplication%20equal%20to%20Divide%20equal.ipynb\" target=\"_parent\"><img src=\"https://colab.research.google.com/assets/colab-badge.svg\" alt=\"Open In Colab\"/></a>"
      ]
    },
    {
      "cell_type": "markdown",
      "source": [
        "Multiplication equal to Divide equal"
      ],
      "metadata": {
        "id": "ar1DHwSugjP8"
      }
    },
    {
      "cell_type": "code",
      "source": [
        "# Simple multiplication and division program\n",
        "\n",
        "# Define two numbers\n",
        "num1 = 12\n",
        "num2 = 4\n",
        "\n",
        "# Perform multiplication\n",
        "multiplication_result = num1 * num2\n",
        "# Perform division\n",
        "division_result = num1 / num2\n",
        "\n",
        "# Print the results\n",
        "print(\"Multiplication of\", num1, \"and\", num2, \"is:\", multiplication_result)\n",
        "print(\"Division of\", num1, \"by\", num2, \"is:\", division_result)"
      ],
      "metadata": {
        "id": "VQPxM4T1grby",
        "outputId": "d93e1d3e-bf06-4244-e594-35477809c1c2",
        "colab": {
          "base_uri": "https://localhost:8080/"
        }
      },
      "execution_count": 6,
      "outputs": [
        {
          "output_type": "stream",
          "name": "stdout",
          "text": [
            "Multiplication of 12 and 4 is: 48\n",
            "Division of 12 by 4 is: 3.0\n"
          ]
        }
      ]
    }
  ],
  "metadata": {
    "colab": {
      "name": "Welcome To Colab",
      "provenance": [],
      "include_colab_link": true
    },
    "kernelspec": {
      "display_name": "Python 3",
      "name": "python3"
    }
  },
  "nbformat": 4,
  "nbformat_minor": 0
}