{
  "cells": [
    {
      "cell_type": "markdown",
      "metadata": {
        "id": "view-in-github",
        "colab_type": "text"
      },
      "source": [
        "<a href=\"https://colab.research.google.com/github/dilip12022006/digital-portfolio/blob/main/Polymorphism.ipynb\" target=\"_parent\"><img src=\"https://colab.research.google.com/assets/colab-badge.svg\" alt=\"Open In Colab\"/></a>"
      ]
    },
    {
      "cell_type": "markdown",
      "source": [
        "Polymorphism"
      ],
      "metadata": {
        "id": "sUCdvojKRe__"
      }
    },
    {
      "cell_type": "code",
      "source": [
        "# Parent class\n",
        "class Shape:\n",
        "    def area(self):\n",
        "        pass\n",
        "\n",
        "# Child class: Rectangle\n",
        "class Rectangle(Shape):\n",
        "    def __init__(self, length, width):\n",
        "        self.length = length\n",
        "        self.width = width\n",
        "\n",
        "    def area(self):\n",
        "        return self.length * self.width\n",
        "\n",
        "# Child class: Circle\n",
        "class Circle(Shape):\n",
        "    def __init__(self, radius):\n",
        "        self.radius = radius\n",
        "\n",
        "    def area(self):\n",
        "        return 3.14 * self.radius ** 2\n",
        "\n",
        "# Create instances\n",
        "rectangle = Rectangle(4, 5)\n",
        "circle = Circle(3)\n",
        "\n",
        "# Polymorphism in action\n",
        "shapes = [rectangle, circle]\n",
        "for shape in shapes:\n",
        "    print(f\"Area of {type(shape).__name__}: {shape.area()}\")"
      ],
      "metadata": {
        "id": "lJkifl_YRj3I",
        "outputId": "e939be28-ac9c-48d1-a685-734cc71cd7c0",
        "colab": {
          "base_uri": "https://localhost:8080/"
        }
      },
      "execution_count": 2,
      "outputs": [
        {
          "output_type": "stream",
          "name": "stdout",
          "text": [
            "Area of Rectangle: 20\n",
            "Area of Circle: 28.26\n"
          ]
        }
      ]
    }
  ],
  "metadata": {
    "colab": {
      "name": "Welcome To Colab",
      "provenance": [],
      "include_colab_link": true
    },
    "kernelspec": {
      "display_name": "Python 3",
      "name": "python3"
    }
  },
  "nbformat": 4,
  "nbformat_minor": 0
}