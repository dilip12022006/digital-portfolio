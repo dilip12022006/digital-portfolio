{
  "cells": [
    {
      "cell_type": "markdown",
      "metadata": {
        "id": "view-in-github",
        "colab_type": "text"
      },
      "source": [
        "<a href=\"https://colab.research.google.com/github/dilip12022006/digital-portfolio/blob/main/Data%20type%20in%20string.ipynb\" target=\"_parent\"><img src=\"https://colab.research.google.com/assets/colab-badge.svg\" alt=\"Open In Colab\"/></a>"
      ]
    },
    {
      "cell_type": "markdown",
      "source": [
        "Date type in string"
      ],
      "metadata": {
        "id": "mxtoTmn_yZbm"
      }
    },
    {
      "cell_type": "code",
      "source": [
        "# String Program\n",
        "\n",
        "def main():\n",
        "    # String declaration\n",
        "    name = \"John Doe\"\n",
        "\n",
        "    # String concatenation\n",
        "    greeting = \"Hello, \" + name + \"!\"\n",
        "    print(greeting)\n",
        "\n",
        "    # String length\n",
        "    print(\"Length of name:\", len(name))\n",
        "\n",
        "    # String indexing\n",
        "    print(\"First character of name:\", name[0])\n",
        "\n",
        "    # String slicing\n",
        "    print(\"First 4 characters of name:\", name[:4])\n",
        "\n",
        "    # String methods\n",
        "    print(\"Uppercase name:\", name.upper())\n",
        "    print(\"Lowercase name:\", name.lower())\n",
        "\n",
        "if __name__ == \"__main__\":\n",
        "    main()"
      ],
      "metadata": {
        "id": "ddm0b1nbybfZ",
        "outputId": "19435084-4dc0-4d48-8125-9d2a75edae3d",
        "colab": {
          "base_uri": "https://localhost:8080/"
        }
      },
      "execution_count": 1,
      "outputs": [
        {
          "output_type": "stream",
          "name": "stdout",
          "text": [
            "Hello, John Doe!\n",
            "Length of name: 8\n",
            "First character of name: J\n",
            "First 4 characters of name: John\n",
            "Uppercase name: JOHN DOE\n",
            "Lowercase name: john doe\n"
          ]
        }
      ]
    }
  ],
  "metadata": {
    "colab": {
      "name": "Welcome To Colab",
      "provenance": [],
      "include_colab_link": true
    },
    "kernelspec": {
      "display_name": "Python 3",
      "name": "python3"
    }
  },
  "nbformat": 4,
  "nbformat_minor": 0
}