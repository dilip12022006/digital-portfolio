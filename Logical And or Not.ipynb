{
  "cells": [
    {
      "cell_type": "markdown",
      "metadata": {
        "id": "view-in-github",
        "colab_type": "text"
      },
      "source": [
        "<a href=\"https://colab.research.google.com/github/dilip12022006/digital-portfolio/blob/main/Logical%20And%20or%20Not.ipynb\" target=\"_parent\"><img src=\"https://colab.research.google.com/assets/colab-badge.svg\" alt=\"Open In Colab\"/></a>"
      ]
    },
    {
      "cell_type": "markdown",
      "source": [
        "Logical And or Not"
      ],
      "metadata": {
        "id": "ZA3KHPsSkP21"
      }
    },
    {
      "cell_type": "code",
      "source": [
        "# Simple Logical Operators Program\n",
        "\n",
        "# Define variables\n",
        "x = 8\n",
        "y = 15\n",
        "z = 10\n",
        "\n",
        "# Using 'and' logical operator (both conditions must be true)\n",
        "if x < y and y < z:\n",
        "    print(\"Both conditions are true: x < y and y < z\")\n",
        "else:\n",
        "    print(\"Both conditions are NOT true.\")\n",
        "\n",
        "# Using 'or' logical operator (at least one condition must be true)\n",
        "if x < y or y > z:\n",
        "    print(\"At least one condition is true: x < y or y > z\")\n",
        "else:\n",
        "    print(\"Neither condition is true.\")\n",
        "\n",
        "# Using 'not' logical operator (reverses the condition)\n",
        "if not x == y:\n",
        "    print(\"x is not equal to y.\")\n",
        "\n",
        "# Combining 'and', 'or', and 'not'\n",
        "if (x < y and not y == z) or z == 10:\n",
        "    print(\"Combined logical conditions: (x < y and not y == z) or z == 10\")"
      ],
      "metadata": {
        "id": "AOMCCGURkSYx",
        "outputId": "d63d062f-2571-4c02-f7bf-9ac95e99b079",
        "colab": {
          "base_uri": "https://localhost:8080/"
        }
      },
      "execution_count": 10,
      "outputs": [
        {
          "output_type": "stream",
          "name": "stdout",
          "text": [
            "Both conditions are NOT true.\n",
            "At least one condition is true: x < y or y > z\n",
            "x is not equal to y.\n",
            "Combined logical conditions: (x < y and not y == z) or z == 10\n"
          ]
        }
      ]
    }
  ],
  "metadata": {
    "colab": {
      "name": "Welcome To Colab",
      "provenance": [],
      "include_colab_link": true
    },
    "kernelspec": {
      "display_name": "Python 3",
      "name": "python3"
    }
  },
  "nbformat": 4,
  "nbformat_minor": 0
}