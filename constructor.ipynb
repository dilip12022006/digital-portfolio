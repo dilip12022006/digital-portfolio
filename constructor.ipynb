{
  "cells": [
    {
      "cell_type": "markdown",
      "metadata": {
        "id": "view-in-github",
        "colab_type": "text"
      },
      "source": [
        "<a href=\"https://colab.research.google.com/github/dilip12022006/digital-portfolio/blob/main/constructor.ipynb\" target=\"_parent\"><img src=\"https://colab.research.google.com/assets/colab-badge.svg\" alt=\"Open In Colab\"/></a>"
      ]
    },
    {
      "cell_type": "markdown",
      "source": [
        "Constructor"
      ],
      "metadata": {
        "id": "zX77wOF0S-45"
      }
    },
    {
      "cell_type": "code",
      "source": [
        "# This is a simple class with a constructor\n",
        "\n",
        "class Person:\n",
        "    def __init__(self, name, age):\n",
        "        # This is the constructor method (__init__)\n",
        "        self.name = name\n",
        "        self.age = age\n",
        "\n",
        "    def greet(self):\n",
        "        print(f\"Hello, my name is {self.name} and I'm {self.age} years old.\")\n",
        "\n",
        "# Creating an object (this will call the constructor)\n",
        "person1 = Person(\"Alice\", 30)\n",
        "person1.greet()"
      ],
      "metadata": {
        "id": "xAFxEfeZTOmA",
        "outputId": "a70283f3-ff79-4947-a86f-712a6d0256af",
        "colab": {
          "base_uri": "https://localhost:8080/"
        }
      },
      "execution_count": 10,
      "outputs": [
        {
          "output_type": "stream",
          "name": "stdout",
          "text": [
            "Hello, my name is Alice and I'm 30 years old.\n"
          ]
        }
      ]
    }
  ],
  "metadata": {
    "colab": {
      "name": "Welcome To Colab",
      "provenance": [],
      "include_colab_link": true
    },
    "kernelspec": {
      "display_name": "Python 3",
      "name": "python3"
    }
  },
  "nbformat": 4,
  "nbformat_minor": 0
}